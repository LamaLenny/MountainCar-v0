{
 "cells": [
  {
   "cell_type": "code",
   "execution_count": 0,
   "metadata": {
    "colab": {},
    "colab_type": "code",
    "id": "xhtG8R3oYNNR"
   },
   "outputs": [],
   "source": [
    "import gym\n",
    "import numpy as np\n",
    "import torch\n",
    "import random\n",
    "from torch import nn\n",
    "import torch.optim as optim\n",
    "import torch.nn.functional as F\n",
    "import copy\n",
    "from collections import deque\n",
    "import matplotlib.pyplot as plt"
   ]
  },
  {
   "cell_type": "code",
   "execution_count": 0,
   "metadata": {
    "colab": {},
    "colab_type": "code",
    "id": "P2MQF9JGYf5B"
   },
   "outputs": [],
   "source": [
    "BUF_SIZE = 10000\n",
    "BATCH_SIZE = 128\n",
    "UPDATE_TARGET = 500 # Обновляем target сетку раз в UPDATE_TARGET обновлений основной сетки\n",
    "GAMMA = 0.98"
   ]
  },
  {
   "cell_type": "code",
   "execution_count": 0,
   "metadata": {
    "colab": {
     "base_uri": "https://localhost:8080/",
     "height": 34
    },
    "colab_type": "code",
    "id": "0gp3i8qUaXoA",
    "outputId": "2cb2745e-f998-4764-8fa7-d88de8ff62b3"
   },
   "outputs": [
    {
     "data": {
      "text/plain": [
       "<torch._C.Generator at 0x7f8f428a4e70>"
      ]
     },
     "execution_count": 3,
     "metadata": {
      "tags": []
     },
     "output_type": "execute_result"
    }
   ],
   "source": [
    "seed = 17\n",
    "np.random.seed(seed)\n",
    "random.seed(seed)\n",
    "env = gym.make('MountainCar-v0')\n",
    "env.seed(seed)\n",
    "torch.manual_seed(seed)"
   ]
  },
  {
   "cell_type": "code",
   "execution_count": 0,
   "metadata": {
    "colab": {},
    "colab_type": "code",
    "id": "BP-XwUYmyJui"
   },
   "outputs": [],
   "source": [
    "def transform_state(state):\n",
    "    state = (np.array(state) + np.array((1.2, 0.0))) / np.array((1.8, 0.07))\n",
    "    result = []\n",
    "    result.extend(state)\n",
    "    return np.array(state)"
   ]
  },
  {
   "cell_type": "code",
   "execution_count": 0,
   "metadata": {
    "colab": {
     "base_uri": "https://localhost:8080/",
     "height": 34
    },
    "colab_type": "code",
    "id": "8nU6aj9MYjt-",
    "outputId": "fd24c071-933c-4118-9ea1-29798055e136"
   },
   "outputs": [
    {
     "name": "stdout",
     "output_type": "stream",
     "text": [
      "cuda\n"
     ]
    }
   ],
   "source": [
    "device = torch.device(\"cuda\" if torch.cuda.is_available() else \"cpu\")\n",
    "print(device)"
   ]
  },
  {
   "cell_type": "markdown",
   "metadata": {
    "colab_type": "text",
    "id": "PI0gQCzNgtBX"
   },
   "source": [
    "# Агент для игры"
   ]
  },
  {
   "cell_type": "code",
   "execution_count": 0,
   "metadata": {
    "colab": {},
    "colab_type": "code",
    "id": "1u5rDQi1gsIT"
   },
   "outputs": [],
   "source": [
    "class Agent:\n",
    "    def __init__(self, model):\n",
    "        self.model = copy.deepcopy(model)\n",
    "\n",
    "    def act(self, state):\n",
    "        state = torch.tensor(transform_state(state)).to(device).float()\n",
    "        with torch.no_grad():\n",
    "            Q_values = self.model(state.unsqueeze(0))\n",
    "        return np.argmax(Q_values.cpu().data.numpy())\n",
    "\n",
    "    def reset(self):\n",
    "        pass"
   ]
  },
  {
   "cell_type": "markdown",
   "metadata": {
    "colab_type": "text",
    "id": "Q4SlYHjjYtz4"
   },
   "source": [
    "# Очередь\n",
    "\n",
    "Мы хотим очередь, но в которой можно по-нормальному извлекать батч."
   ]
  },
  {
   "cell_type": "code",
   "execution_count": 0,
   "metadata": {
    "colab": {},
    "colab_type": "code",
    "id": "c5NOW_fnYnMM"
   },
   "outputs": [],
   "source": [
    "class Buffer:\n",
    "    def __init__(self, cap):\n",
    "        self.cap = cap\n",
    "        self.mem = []\n",
    "        self.pos = -1  # позиция последнего записанного элемента\n",
    "\n",
    "    def __len__(self):\n",
    "        return len(self.mem)\n",
    "\n",
    "    def add(self, element):\n",
    "        if len(self.mem) < self.cap:\n",
    "            self.mem.append(None)\n",
    "        new_pos = (self.pos + 1) % self.cap\n",
    "        self.mem[new_pos] = element\n",
    "        self.pos = new_pos\n",
    "\n",
    "    def sample(self, batch_size):\n",
    "        return random.sample(self.mem, batch_size)\n",
    "        \n",
    "    def __getitem__(self, k):\n",
    "        return self.mem[(self.pos + 1 + k) % self.cap]"
   ]
  },
  {
   "cell_type": "markdown",
   "metadata": {
    "colab_type": "text",
    "id": "kGCFhHdsZEjV"
   },
   "source": [
    "# Сетка для DQN"
   ]
  },
  {
   "cell_type": "code",
   "execution_count": 0,
   "metadata": {
    "colab": {},
    "colab_type": "code",
    "id": "XrIlv1UCZDzA"
   },
   "outputs": [],
   "source": [
    "class Model(nn.Module):\n",
    "    def __init__(self, state_dim, action_dim):\n",
    "        super().__init__()\n",
    "        lin1 = nn.Linear(state_dim,64)\n",
    "        torch.nn.init.xavier_normal_(lin1.weight)\n",
    "\n",
    "        lin2 = nn.Linear(64, 64)\n",
    "        torch.nn.init.xavier_normal_(lin2.weight)\n",
    "\n",
    "        lin3 = nn.Linear(64, action_dim)\n",
    "        torch.nn.init.xavier_normal_(lin3.weight)\n",
    "\n",
    "        self.layers = nn.Sequential(lin1, nn.ReLU(), lin2, nn.ReLU(), lin3)\n",
    "\n",
    "    def forward(self, x):\n",
    "        return self.layers(x)"
   ]
  },
  {
   "cell_type": "markdown",
   "metadata": {
    "colab_type": "text",
    "id": "mJ_YMJD0ZWNt"
   },
   "source": [
    "# DQN"
   ]
  },
  {
   "cell_type": "code",
   "execution_count": 0,
   "metadata": {
    "colab": {},
    "colab_type": "code",
    "id": "LQ7DgwzsZa2d"
   },
   "outputs": [],
   "source": [
    "class DQN:\n",
    "    def __init__(self, state_dim, action_dim):\n",
    "        self.network = Model(state_dim, action_dim).to(device)\n",
    "        self.target_network = copy.deepcopy(self.network).to(device)\n",
    "        self.optimizer = optim.Adam(self.network.parameters(), lr=5e-4)\n",
    "\n",
    "    def update(self, batch):\n",
    "        states, actions, rewards, next_states, dones = zip(*batch)\n",
    "        states = torch.from_numpy(np.array(states)).float().to(device)\n",
    "        actions = torch.from_numpy(np.array(actions)).to(device).unsqueeze(1)\n",
    "        rewards = torch.from_numpy(np.array(rewards)).float().to(device).unsqueeze(1)\n",
    "        next_states = torch.from_numpy(np.array(next_states)).float().to(device)\n",
    "        dones = torch.from_numpy(np.array(dones)).to(device).unsqueeze(1)\n",
    "\n",
    "        with torch.no_grad(): # Double DQN  \n",
    "            argmax = self.network(next_states).detach().max(1)[1].unsqueeze(1)\n",
    "            target = rewards + (GAMMA * self.target_network(next_states).detach().gather(1, argmax))*(~dones)\n",
    "\n",
    "        Q_current = self.network(states).gather(1, actions)\n",
    "        self.optimizer.zero_grad()\n",
    "        loss = F.mse_loss(target, Q_current)\n",
    "        loss.backward()\n",
    "        self.optimizer.step()\n",
    "        \n",
    "    def act(self, state):\n",
    "        state = torch.tensor(state).to(device).float()\n",
    "        with torch.no_grad():\n",
    "            Q_values = self.network(state.unsqueeze(0))\n",
    "        return np.argmax(Q_values.cpu().data.numpy())\n",
    "\n",
    "    def update_target(self):\n",
    "        self.target_network = copy.deepcopy(self.network)"
   ]
  },
  {
   "cell_type": "code",
   "execution_count": 0,
   "metadata": {
    "colab": {},
    "colab_type": "code",
    "id": "9nLva8RjgkR4"
   },
   "outputs": [],
   "source": []
  },
  {
   "cell_type": "markdown",
   "metadata": {
    "colab_type": "text",
    "id": "ahSi6kCnZ2b_"
   },
   "source": [
    "# Обучение"
   ]
  },
  {
   "cell_type": "code",
   "execution_count": 0,
   "metadata": {
    "colab": {},
    "colab_type": "code",
    "id": "h72Zs_XsZ9wZ"
   },
   "outputs": [],
   "source": [
    "def eps_greedy(env, dqn, state, eps):\n",
    "    if random.random() < eps:\n",
    "        return env.action_space.sample()\n",
    "    return dqn.act(state)\n",
    "\n",
    "\n",
    "def current_results(i, rews, eps, output_period=100):\n",
    "    mean_r = np.mean(rews)\n",
    "    max_r = np.max(rews)\n",
    "    min_r = np.min(rews)\n",
    "    print(f'\\repisode {i}, eps = {eps}, mean = {mean_r}, min = {min_r}, max = {max_r}', end=\"\")\n",
    "    if not i % output_period:\n",
    "        print(f'\\repisode {i}, eps = {eps}, mean = {mean_r}, min = {min_r}, max = {max_r}')\n",
    "    return mean_r"
   ]
  },
  {
   "cell_type": "code",
   "execution_count": 0,
   "metadata": {
    "colab": {
     "base_uri": "https://localhost:8080/",
     "height": 269
    },
    "colab_type": "code",
    "id": "mN0bLHKRaK4w",
    "outputId": "6a5e8e76-6f34-4b95-b4b8-9e4d3ed1296f"
   },
   "outputs": [
    {
     "name": "stdout",
     "output_type": "stream",
     "text": [
      "episode 100, eps = 0.6057704364907278, mean = -200.0, min = -200.0, max = -200.0\n",
      "episode 200, eps = 0.3669578217261671, mean = -199.05, min = -200.0, max = -159.0\n",
      "episode 300, eps = 0.22229219984074702, mean = -183.21, min = -200.0, max = -127.0\n",
      "episode 400, eps = 0.1346580429260134, mean = -165.63, min = -200.0, max = -113.0\n",
      "episode 500, eps = 0.08157186144027828, mean = -167.23, min = -200.0, max = -91.0\n",
      "episode 600, eps = 0.0494138221100385, mean = -144.95, min = -200.0, max = -97.0\n",
      "episode 700, eps = 0.029933432588273214, mean = -138.29, min = -200.0, max = -85.0\n",
      "episode 800, eps = 0.018132788524664028, mean = -122.74, min = -175.0, max = -92.0\n",
      "episode 900, eps = 0.01098430721937979, mean = -109.87, min = -159.0, max = -84.0\n",
      "episode 1000, eps = 0.006653968578831948, mean = -107.93, min = -170.0, max = -83.0\n",
      "episode 1100, eps = 0.004030777450394616, mean = -107.93, min = -199.0, max = -84.0\n",
      "episode 1200, eps = 0.002441725815522529, mean = -104.07, min = -173.0, max = -83.0\n",
      "episode 1300, eps = 0.0014791253130597608, mean = -104.59, min = -152.0, max = -83.0\n",
      "episode 1400, eps = 0.0008960103865166974, mean = -104.88, min = -200.0, max = -83.0\n",
      "episode 1500, eps = 0.0005427766029404454, mean = -102.89, min = -148.0, max = -83.0\n"
     ]
    }
   ],
   "source": [
    "dqn = DQN(state_dim=2, action_dim=3)\n",
    "buf = Buffer(BUF_SIZE)\n",
    "\n",
    "episodes = 1500\n",
    "eps = 1\n",
    "eps_coeff = 0.995\n",
    "dqn_updates = 0\n",
    "output_period = 100\n",
    "\n",
    "rews = deque(maxlen=output_period) # сюда буду писать данные за output_period эпизодов\n",
    "best_mean = -10 ** 3\n",
    "best_model = None\n",
    "\n",
    "# Задача считается решенной, когда среднее за 100 подряд идущих эпизодов >= -110\n",
    "solv_ep = 10000\n",
    "solv_mean = -200\n",
    "rews_all = [None] * episodes # Буду писать сюда награды за каждый эпизод, чтобы потом нарисовать график\n",
    "\n",
    "for i in range(1, episodes + 1):\n",
    "    state = transform_state(env.reset())\n",
    "    done = False\n",
    "    total_reward = 0\n",
    "    while not done:\n",
    "        action = eps_greedy(env, dqn, state, eps)\n",
    "        next_state, reward, done, _ = env.step(action)\n",
    "        next_state = transform_state(next_state)\n",
    "        total_reward += reward\n",
    "        reward += 300 * (GAMMA * abs(next_state[1]) - abs(state[1]))\n",
    "        buf.add((state, action, reward, next_state, done))\n",
    "        if len(buf) >= BATCH_SIZE:\n",
    "            dqn.update(buf.sample(BATCH_SIZE))\n",
    "            dqn_updates += 1\n",
    "        if not dqn_updates % UPDATE_TARGET:\n",
    "            dqn.update_target()\n",
    "        state = next_state\n",
    "    eps *= eps_coeff\n",
    "    rews.append(total_reward)\n",
    "    rews_all[i - 1] = total_reward\n",
    "    mean_r = current_results(i, rews, eps, output_period)\n",
    "    if mean_r > best_mean:\n",
    "        best_model = copy.deepcopy(dqn.network)\n",
    "        best_mean = mean_r\n",
    "    if mean_r > -110 and i < solv_ep:\n",
    "        solv_ep = i\n",
    "        solv_mean = mean_r\n"
   ]
  },
  {
   "cell_type": "code",
   "execution_count": 0,
   "metadata": {
    "colab": {
     "base_uri": "https://localhost:8080/",
     "height": 34
    },
    "colab_type": "code",
    "id": "bF9LJ0rKMR_8",
    "outputId": "55bfa801-f686-40f2-cedf-d2c4c5e31a05"
   },
   "outputs": [
    {
     "name": "stdout",
     "output_type": "stream",
     "text": [
      "Problem solved on episode 900, mean = -109.87\n"
     ]
    }
   ],
   "source": [
    "print(f\"Problem solved on episode {solv_ep}, mean = {solv_mean}\")"
   ]
  },
  {
   "cell_type": "markdown",
   "metadata": {
    "colab_type": "text",
    "id": "rablLXxae4PI"
   },
   "source": [
    "# График: награда и число эпизодов"
   ]
  },
  {
   "cell_type": "code",
   "execution_count": 0,
   "metadata": {
    "colab": {
     "base_uri": "https://localhost:8080/",
     "height": 442
    },
    "colab_type": "code",
    "id": "HCY8qWI_e_IW",
    "outputId": "ea24ad9f-911a-4d43-9854-70d0eebac61d"
   },
   "outputs": [
    {
     "data": {
      "image/png": "[encoded data removed]",
      "text/plain": [
       "<Figure size 1080x504 with 1 Axes>"
      ]
     },
     "metadata": {
      "tags": []
     },
     "output_type": "display_data"
    }
   ],
   "source": [
    "plt.figure(figsize=(15, 7))\n",
    "plt.plot(range(1, episodes + 1), rews_all)\n",
    "plt.ylabel('Награда')\n",
    "plt.xlabel('Число эпизодов')\n",
    "plt.show()"
   ]
  }
 ],
 "metadata": {
  "accelerator": "GPU",
  "colab": {
   "collapsed_sections": [],
   "name": "MountainCar-v0_DQN.ipynb",
   "provenance": []
  },
  "kernelspec": {
   "display_name": "Python 3",
   "language": "python",
   "name": "python3"
  },
  "language_info": {
   "codemirror_mode": {
    "name": "ipython",
    "version": 3
   },
   "file_extension": ".py",
   "mimetype": "text/x-python",
   "name": "python",
   "nbconvert_exporter": "python",
   "pygments_lexer": "ipython3",
   "version": "3.7.3"
  }
 },
 "nbformat": 4,
 "nbformat_minor": 1
}
